{
 "cells": [
  {
   "cell_type": "code",
   "execution_count": 3,
   "id": "23fc6361",
   "metadata": {},
   "outputs": [
    {
     "name": "stdout",
     "output_type": "stream",
     "text": [
      "[(2, 'a'), (4, 'f'), (5, 'g'), (9, 'd')]\n",
      "a 2\n",
      "f 4\n",
      "g 5\n",
      "d 9\n"
     ]
    }
   ],
   "source": [
    "d = {'a':2, 'f':4, 'g':5, 'd':9}\n",
    "l1 = []\n",
    "for k,v in d.items():\n",
    "    l1.append((v,k))\n",
    "l1 = sorted(l1)\n",
    "print(l1)\n",
    "for v,k in l1:\n",
    "    print(k,v)"
   ]
  },
  {
   "cell_type": "code",
   "execution_count": 3,
   "id": "403a93c8",
   "metadata": {},
   "outputs": [
    {
     "data": {
      "text/plain": [
       "{'himachal': 'shimla', 'punjab': 'chandigarh'}"
      ]
     },
     "execution_count": 3,
     "metadata": {},
     "output_type": "execute_result"
    }
   ],
   "source": [
    "capital = {'himachal':'shimla', 'punjab':'chandigarh'}\n",
    "capital"
   ]
  },
  {
   "cell_type": "code",
   "execution_count": 6,
   "id": "67563702",
   "metadata": {},
   "outputs": [
    {
     "data": {
      "text/plain": [
       "{0: 10, 1: 20, 2: 30}"
      ]
     },
     "execution_count": 6,
     "metadata": {},
     "output_type": "execute_result"
    }
   ],
   "source": [
    "#2 add k/v to a dic\n",
    "a = {0:10, 1:20}\n",
    "a[2]= 30\n",
    "a"
   ]
  },
  {
   "cell_type": "code",
   "execution_count": null,
   "id": "77e907e7",
   "metadata": {},
   "outputs": [],
   "source": [
    "#3 Concate given dictionaries to create a new one\n",
    "dic1= {1:10, 2:20}\n",
    "dic2= {3:30, 4:40}\n",
    "dic3= {5:50, 6:60}\n"
   ]
  },
  {
   "cell_type": "code",
   "execution_count": null,
   "id": "8ad1e182",
   "metadata": {},
   "outputs": [],
   "source": []
  },
  {
   "cell_type": "code",
   "execution_count": null,
   "id": "431ee926",
   "metadata": {},
   "outputs": [],
   "source": []
  },
  {
   "cell_type": "code",
   "execution_count": null,
   "id": "eda68855",
   "metadata": {},
   "outputs": [],
   "source": []
  },
  {
   "cell_type": "code",
   "execution_count": null,
   "id": "b5c16c61",
   "metadata": {},
   "outputs": [],
   "source": []
  },
  {
   "cell_type": "code",
   "execution_count": null,
   "id": "ab2a02b7",
   "metadata": {},
   "outputs": [],
   "source": []
  },
  {
   "cell_type": "code",
   "execution_count": null,
   "id": "eb2074ff",
   "metadata": {},
   "outputs": [],
   "source": []
  },
  {
   "cell_type": "code",
   "execution_count": null,
   "id": "a874d3eb",
   "metadata": {},
   "outputs": [],
   "source": []
  },
  {
   "cell_type": "code",
   "execution_count": null,
   "id": "91a0ef60",
   "metadata": {},
   "outputs": [],
   "source": []
  },
  {
   "cell_type": "code",
   "execution_count": null,
   "id": "f103d28a",
   "metadata": {},
   "outputs": [],
   "source": []
  }
 ],
 "metadata": {
  "kernelspec": {
   "display_name": "Python 3 (ipykernel)",
   "language": "python",
   "name": "python3"
  },
  "language_info": {
   "codemirror_mode": {
    "name": "ipython",
    "version": 3
   },
   "file_extension": ".py",
   "mimetype": "text/x-python",
   "name": "python",
   "nbconvert_exporter": "python",
   "pygments_lexer": "ipython3",
   "version": "3.9.7"
  }
 },
 "nbformat": 4,
 "nbformat_minor": 5
}
