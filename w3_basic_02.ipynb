{
 "cells": [
  {
   "cell_type": "code",
   "execution_count": 7,
   "id": "f94bcd16",
   "metadata": {},
   "outputs": [
    {
     "name": "stdout",
     "output_type": "stream",
     "text": [
      "True\n",
      "False\n"
     ]
    }
   ],
   "source": [
    "#Check whether all numbers are different.\n",
    "def check_distinct(data):\n",
    "    if len(data) == len(set(data)):\n",
    "        return print(True)\n",
    "    else:\n",
    "        return print(False)\n",
    "n1 = [\"1\",\"2\",\"3\",\"4\"]\n",
    "n2 = [\"1\",\"2\",\"3\",\"3\"]\n",
    "check_distinct(n1)\n",
    "check_distinct(n2)"
   ]
  },
  {
   "cell_type": "code",
   "execution_count": 10,
   "id": "709b1cf4",
   "metadata": {},
   "outputs": [
    {
     "name": "stdout",
     "output_type": "stream",
     "text": [
      "['e', 'u', 'a', 'o', 'i']\n"
     ]
    }
   ],
   "source": [
    "import random\n",
    "vowels = ['a', 'e', 'i', 'o', 'u']\n",
    "random.shuffle(vowels)\n",
    "print(vowels)"
   ]
  },
  {
   "cell_type": "code",
   "execution_count": 11,
   "id": "cebd8e57",
   "metadata": {},
   "outputs": [
    {
     "name": "stdout",
     "output_type": "stream",
     "text": [
      "3\n",
      "6\n",
      "2\n",
      "7\n",
      "5\n",
      "1\n",
      "4\n",
      "30\n",
      "60\n",
      "90\n",
      "40\n",
      "80\n",
      "50\n",
      "20\n",
      "70\n",
      "10\n"
     ]
    }
   ],
   "source": [
    "def remove_num(int_list):\n",
    "    position = 2\n",
    "    idx = 0\n",
    "    llen = len(int_list)\n",
    "    while llen>0:\n",
    "        idx = (position + idx)%llen\n",
    "        print (int_list.pop(idx))\n",
    "        llen -=1\n",
    "a = ['1','2','3','4','5','6','7']\n",
    "b = [10,20,30,40,50,60,70,80,90]\n",
    "remove_num(a)\n",
    "remove_num(b)"
   ]
  },
  {
   "cell_type": "code",
   "execution_count": 1,
   "id": "98682ce6",
   "metadata": {},
   "outputs": [
    {
     "name": "stdout",
     "output_type": "stream",
     "text": [
      "hello\n"
     ]
    }
   ],
   "source": [
    "print ('hello')"
   ]
  },
  {
   "cell_type": "code",
   "execution_count": null,
   "id": "e9737ffb",
   "metadata": {},
   "outputs": [],
   "source": []
  }
 ],
 "metadata": {
  "kernelspec": {
   "display_name": "Python 3 (ipykernel)",
   "language": "python",
   "name": "python3"
  },
  "language_info": {
   "codemirror_mode": {
    "name": "ipython",
    "version": 3
   },
   "file_extension": ".py",
   "mimetype": "text/x-python",
   "name": "python",
   "nbconvert_exporter": "python",
   "pygments_lexer": "ipython3",
   "version": "3.9.0"
  }
 },
 "nbformat": 4,
 "nbformat_minor": 5
}
