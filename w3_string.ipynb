{
 "cells": [
  {
   "cell_type": "code",
   "execution_count": 24,
   "id": "32afb114",
   "metadata": {},
   "outputs": [
    {
     "name": "stdout",
     "output_type": "stream",
     "text": [
      "{'g': 2, 'o': 3, 'l': 1, 'e': 1, '.': 1, 'c': 1, 'm': 1}\n"
     ]
    }
   ],
   "source": [
    "#2. Write a Python program to count the number of characters (character frequency) in a string.\n",
    "\n",
    "#Sample String : google.com'\n",
    "#Expected Result : {'g': 2, 'o': 3, 'l': 1, 'e': 1, '.': 1, 'c': 1, 'm': 1}\n",
    "\n",
    "\n",
    "def charf(given_string):\n",
    "    #lsstring = []\n",
    "    #lsstring[:] = given_string\n",
    "    di = dict()\n",
    "    for i in given_string:\n",
    "        di[i] = di.get(i,0) + 1 \n",
    "    print (di)    \n",
    "    \n",
    "s1 = 'google.com'\n",
    "charf(s1)\n",
    "    "
   ]
  },
  {
   "cell_type": "code",
   "execution_count": 42,
   "id": "aa77f538",
   "metadata": {},
   "outputs": [
    {
     "name": "stdout",
     "output_type": "stream",
     "text": [
      "helo\n",
      "\n"
     ]
    }
   ],
   "source": [
    "#Write a Python program to get a string made of the first 2 and the last 2 chars from a given a string.\n",
    "#If the string length is less than 2, return instead Empty string.\n",
    "\n",
    "\n",
    "def string_ends(str):\n",
    "    le = len(str)\n",
    "    if le < 2:\n",
    "        return ''\n",
    "    else:\n",
    "        return str[:2] + str[-2:]\n",
    "        \n",
    "print(string_ends('hello'))\n",
    "print(string_ends('h'))"
   ]
  },
  {
   "cell_type": "code",
   "execution_count": 56,
   "id": "df270f6c",
   "metadata": {},
   "outputs": [
    {
     "name": "stdout",
     "output_type": "stream",
     "text": [
      "resta$t\n",
      "philledil$hia\n"
     ]
    }
   ],
   "source": [
    "#Write a Python program to get a string from a given string where all occurrences of its first char\n",
    "#have been changed to '$', except the first char itself.\n",
    "#Sample String : 'restart'\n",
    "#Expected Result : 'resta$t\n",
    "\n",
    "def dolla(str):\n",
    "    f = str[0]\n",
    "    str = str.replace (f, '$')\n",
    "    str = f + str[1:]\n",
    "    return print(str)\n",
    "\n",
    "dolla('restart')\n",
    "dolla('philledilphia')"
   ]
  },
  {
   "cell_type": "code",
   "execution_count": 61,
   "id": "0a4e4e59",
   "metadata": {},
   "outputs": [
    {
     "name": "stdout",
     "output_type": "stream",
     "text": [
      "xyc abz\n"
     ]
    }
   ],
   "source": [
    "#Write a Python program to get a single string from two given strings,\n",
    "#separated by a space and swap the first two characters of each string.\n",
    "#Sample String : 'abc', 'xyz' \n",
    "#Expected Result : 'xyc abz'\n",
    "\n",
    "def swap0(a,b):\n",
    "    new_a = b[:2]+a[2:]\n",
    "    new_b = a[:2]+b[2:]\n",
    "    return print(new_a,new_b)\n",
    "\n",
    "swap0('abc' ,'xyz' )\n",
    "    "
   ]
  },
  {
   "cell_type": "code",
   "execution_count": 14,
   "id": "2131ae81",
   "metadata": {},
   "outputs": [
    {
     "name": "stdout",
     "output_type": "stream",
     "text": [
      "Enter a string: string\n",
      "stringly\n"
     ]
    }
   ],
   "source": [
    "\"\"\"6. Write a Python program to add 'ing' at the end of a given string (length should be at least 3).\n",
    "If the given string already ends with 'ing' then add 'ly' instead. \n",
    "If the string length of the given string is less than 3, leave it unchanged.\n",
    "Sample String : 'abc'\n",
    "Expected Result : 'abcing' \n",
    "Sample String : 'string'\n",
    "Expected Result : 'stringly'\"\"\"\n",
    "\n",
    "st = input('Enter a string: ')\n",
    "a = 'ing'\n",
    "b = 'ly'\n",
    "if len(st)>3:\n",
    "    if not st[-3:]=='ing' :\n",
    "        r = st+a\n",
    "    else :\n",
    "        r = st+b\n",
    "    print(r)\n",
    "else:\n",
    "    print(st)\n",
    "\n"
   ]
  },
  {
   "cell_type": "code",
   "execution_count": 29,
   "id": "33da747c",
   "metadata": {},
   "outputs": [
    {
     "name": "stdout",
     "output_type": "stream",
     "text": [
      "The lyrics is good!\n",
      "The lyrics is poor\n"
     ]
    }
   ],
   "source": [
    "#7 Write a Python program to find the first appearance of the substring 'not' and 'poor' from a given string,\n",
    "'''if 'not' follows the 'poor', replace the whole 'not'...'poor' substring with 'good'.\n",
    "Return the resulting string'''\n",
    "\n",
    "def better(stg):\n",
    "    a = stg.find('not')\n",
    "    b = stg.find('poor')\n",
    "    if a > 0 and b>0 and a < b :\n",
    "        stg = stg.replace(stg[a:(b+4)], 'good')\n",
    "        print (stg)\n",
    "    else:\n",
    "        print (stg)\n",
    "        \n",
    "better('The lyrics is not that poor!')\n",
    "better('The lyrics is poor')\n",
    "    "
   ]
  },
  {
   "cell_type": "code",
   "execution_count": 4,
   "id": "9ab7fbb7",
   "metadata": {},
   "outputs": [
    {
     "name": "stdout",
     "output_type": "stream",
     "text": [
      "Enter a list of words: hello, word, me, a\n",
      "[(1, 'a'), (2, 'me'), (4, 'word'), (5, 'hello')]\n",
      "Longest word: hello Length: 5\n"
     ]
    }
   ],
   "source": [
    "#8. Write a Python function that takes a list of words and\n",
    "#return the longest word and the length of the longest one.\n",
    "\n",
    "wds = input('Enter a list of words: ')\n",
    "l1 = wds.split(',')\n",
    "l2 = []\n",
    "\n",
    "for l in l1:\n",
    "    l = l.strip()\n",
    "    l2.append((len(l),l)) \n",
    "#print(l2)\n",
    "l2 = sorted(l2)\n",
    "print(l2)\n",
    "print('Longest word:', l2[-1][1], 'Length:', l2[-1][0])\n",
    "    \n"
   ]
  },
  {
   "cell_type": "code",
   "execution_count": null,
   "id": "eb10469c",
   "metadata": {},
   "outputs": [],
   "source": []
  }
 ],
 "metadata": {
  "kernelspec": {
   "display_name": "Python 3 (ipykernel)",
   "language": "python",
   "name": "python3"
  },
  "language_info": {
   "codemirror_mode": {
    "name": "ipython",
    "version": 3
   },
   "file_extension": ".py",
   "mimetype": "text/x-python",
   "name": "python",
   "nbconvert_exporter": "python",
   "pygments_lexer": "ipython3",
   "version": "3.9.0"
  }
 },
 "nbformat": 4,
 "nbformat_minor": 5
}
